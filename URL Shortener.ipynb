{
  "nbformat": 4,
  "nbformat_minor": 0,
  "metadata": {
    "colab": {
      "provenance": [],
      "authorship_tag": "ABX9TyP604FeKkq3FXQ9n8VVzW0R",
      "include_colab_link": true
    },
    "kernelspec": {
      "name": "python3",
      "display_name": "Python 3"
    },
    "language_info": {
      "name": "python"
    }
  },
  "cells": [
    {
      "cell_type": "markdown",
      "metadata": {
        "id": "view-in-github",
        "colab_type": "text"
      },
      "source": [
        "<a href=\"https://colab.research.google.com/github/Prof410/prof410/blob/main/URL%20Shortener.ipynb\" target=\"_parent\"><img src=\"https://colab.research.google.com/assets/colab-badge.svg\" alt=\"Open In Colab\"/></a>"
      ]
    },
    {
      "cell_type": "code",
      "execution_count": 4,
      "metadata": {
        "colab": {
          "base_uri": "https://localhost:8080/"
        },
        "id": "DpzJAulGo_Fw",
        "outputId": "0d4b9cf1-1b38-43fc-971c-11f540d41136"
      },
      "outputs": [
        {
          "output_type": "stream",
          "name": "stdout",
          "text": [
            "Введите URL-адрес для сокращения: https://colab.research.google.com/drive/15CZ_gA8hcbk2A6Y9a10r5boy9pRkNvvk#scrollTo=DpzJAulGo_Fw\n",
            "Сокращённая ссылка: https://tinyurl.com/23qvmx2k\n"
          ]
        }
      ],
      "source": [
        "#  URL Shortener\n",
        "\n",
        "import requests\n",
        "# Эта строка импортирует библиотеку requests, которая позволяет отправлять HTTP-запросы используя Python. Библиотека упрощает взаимодействие с веб-сервисами и обработку ответов от них.\n",
        "\n",
        "# Функция для сокращения ссылки с помощью API TinyURL\n",
        "def shorten_url(url):\n",
        "    # Здесь определяется функция shorten_url, которая принимает один параметр url — это полный URL, который нужно сократить.\n",
        "    api_url = 'http://tinyurl.com/api-create.php?url='\n",
        "    # Эта строка создаёт переменную api_url, содержащую URL API TinyURL для сокращения ссылок. В этот URL будет добавлен исходный URL, который необходимо сократить.\n",
        "    response = requests.get(api_url + url)\n",
        "    #  С помощью метода get из библиотеки requests отправляется GET-запрос к API TinyURL. К базовому URL API добавляется исходный URL url, и происходит запрос на его сокращение.\n",
        "    return response.text\n",
        "    # Полученный ответ от сервера (response) содержит сокращённый URL как текст. Этот текст возвращается из функции в место её вызова.\n",
        "\n",
        "# Основная программа\n",
        "if __name__ == \"__main__\":\n",
        "# Эта проверка обеспечивает выполнение кода только в том случае, если скрипт запущен как основная программа, а не импортирован как модуль в другой скрипт.\n",
        "    original_url = input(\"Введите URL-адрес для сокращения: \")\n",
        "    # Здесь пользователю предлагается ввести URL для сокращения, который затем сохраняется в переменной original_url.\n",
        "    try:\n",
        "    # Использование try позволяет обрабатывать возможные исключения, которые могут возникнуть в процессе выполнения кода внутри блока try\n",
        "        shortened_url = shorten_url(original_url)\n",
        "        # Вызов функции shorten_url, передаём ей original_url и сохраняем полученный сокращённый URL в shortened_url.\n",
        "        print(\"Сокращённая ссылка:\", shortened_url)\n",
        "        # Выводим сокращённый URL в консоль.\n",
        "    except Exception as e:\n",
        "        print(\"Произошла ошибка при сокращении URL:\", e)\n",
        "        # Если во время работы программы возникает исключение, его обрабатывают в блоке except, и выводится сообщение об ошибке.\n",
        "        # Переменная e содержит информацию об исключении, которое было поймано."
      ]
    },
    {
      "cell_type": "code",
      "source": [
        "\n"
      ],
      "metadata": {
        "id": "c_YPjARJpwqi"
      },
      "execution_count": null,
      "outputs": []
    }
  ]
}